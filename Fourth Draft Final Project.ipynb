{
 "cells": [
  {
   "cell_type": "code",
   "execution_count": 33,
   "metadata": {},
   "outputs": [],
   "source": [
    "import pandas as pd\n",
    "import numpy as np\n",
    "import calendar\n",
    "\n",
    "import matplotlib.pyplot as plt\n",
    "%matplotlib inline\n",
    "\n",
    "import seaborn as sns\n",
    "\n",
    "#from fbprophet import Prophet\n",
    "\n",
    "import warnings\n",
    "warnings.filterwarnings('ignore')\n",
    "\n",
    "from sklearn.model_selection import TimeSeriesSplit"
   ]
  },
  {
   "cell_type": "code",
   "execution_count": 2,
   "metadata": {},
   "outputs": [
    {
     "data": {
      "text/html": [
       "<div>\n",
       "<style scoped>\n",
       "    .dataframe tbody tr th:only-of-type {\n",
       "        vertical-align: middle;\n",
       "    }\n",
       "\n",
       "    .dataframe tbody tr th {\n",
       "        vertical-align: top;\n",
       "    }\n",
       "\n",
       "    .dataframe thead th {\n",
       "        text-align: right;\n",
       "    }\n",
       "</style>\n",
       "<table border=\"1\" class=\"dataframe\">\n",
       "  <thead>\n",
       "    <tr style=\"text-align: right;\">\n",
       "      <th></th>\n",
       "      <th>Date</th>\n",
       "      <th>Centre</th>\n",
       "      <th>Commodity</th>\n",
       "      <th>Price per Kg</th>\n",
       "      <th>Region</th>\n",
       "      <th>Country</th>\n",
       "    </tr>\n",
       "  </thead>\n",
       "  <tbody>\n",
       "    <tr>\n",
       "      <th>0</th>\n",
       "      <td>25-11-1997</td>\n",
       "      <td>LUCKNOW</td>\n",
       "      <td>Tur/Arhar Dal</td>\n",
       "      <td>15.0</td>\n",
       "      <td>NORTH</td>\n",
       "      <td>INDIA</td>\n",
       "    </tr>\n",
       "    <tr>\n",
       "      <th>1</th>\n",
       "      <td>25-11-1997</td>\n",
       "      <td>BHOPAL</td>\n",
       "      <td>Tur/Arhar Dal</td>\n",
       "      <td>18.0</td>\n",
       "      <td>WEST</td>\n",
       "      <td>INDIA</td>\n",
       "    </tr>\n",
       "    <tr>\n",
       "      <th>2</th>\n",
       "      <td>25-11-1997</td>\n",
       "      <td>JAIPUR</td>\n",
       "      <td>Tur/Arhar Dal</td>\n",
       "      <td>20.0</td>\n",
       "      <td>WEST</td>\n",
       "      <td>INDIA</td>\n",
       "    </tr>\n",
       "    <tr>\n",
       "      <th>3</th>\n",
       "      <td>25-11-1997</td>\n",
       "      <td>SHIMLA</td>\n",
       "      <td>Tur/Arhar Dal</td>\n",
       "      <td>21.5</td>\n",
       "      <td>NORTH</td>\n",
       "      <td>INDIA</td>\n",
       "    </tr>\n",
       "    <tr>\n",
       "      <th>4</th>\n",
       "      <td>25-11-1997</td>\n",
       "      <td>AHMEDABAD</td>\n",
       "      <td>Tur/Arhar Dal</td>\n",
       "      <td>21.5</td>\n",
       "      <td>WEST</td>\n",
       "      <td>INDIA</td>\n",
       "    </tr>\n",
       "  </tbody>\n",
       "</table>\n",
       "</div>"
      ],
      "text/plain": [
       "         Date     Centre      Commodity  Price per Kg Region Country\n",
       "0  25-11-1997    LUCKNOW  Tur/Arhar Dal          15.0  NORTH   INDIA\n",
       "1  25-11-1997     BHOPAL  Tur/Arhar Dal          18.0   WEST   INDIA\n",
       "2  25-11-1997     JAIPUR  Tur/Arhar Dal          20.0   WEST   INDIA\n",
       "3  25-11-1997     SHIMLA  Tur/Arhar Dal          21.5  NORTH   INDIA\n",
       "4  25-11-1997  AHMEDABAD  Tur/Arhar Dal          21.5   WEST   INDIA"
      ]
     },
     "execution_count": 2,
     "metadata": {},
     "output_type": "execute_result"
    }
   ],
   "source": [
    "como = pd.read_csv('Project - 3 - India_Key_Commodities_Retail_Prices_1997_2015.csv')\n",
    "como.head()"
   ]
  },
  {
   "cell_type": "code",
   "execution_count": 3,
   "metadata": {},
   "outputs": [
    {
     "data": {
      "text/html": [
       "<div>\n",
       "<style scoped>\n",
       "    .dataframe tbody tr th:only-of-type {\n",
       "        vertical-align: middle;\n",
       "    }\n",
       "\n",
       "    .dataframe tbody tr th {\n",
       "        vertical-align: top;\n",
       "    }\n",
       "\n",
       "    .dataframe thead th {\n",
       "        text-align: right;\n",
       "    }\n",
       "</style>\n",
       "<table border=\"1\" class=\"dataframe\">\n",
       "  <thead>\n",
       "    <tr style=\"text-align: right;\">\n",
       "      <th></th>\n",
       "      <th>Date</th>\n",
       "      <th>Centre</th>\n",
       "      <th>Commodity</th>\n",
       "      <th>Price per Kg</th>\n",
       "      <th>Region</th>\n",
       "      <th>Country</th>\n",
       "      <th>Timeindex</th>\n",
       "      <th>Month-year</th>\n",
       "    </tr>\n",
       "  </thead>\n",
       "  <tbody>\n",
       "    <tr>\n",
       "      <th>0</th>\n",
       "      <td>25-11-1997</td>\n",
       "      <td>LUCKNOW</td>\n",
       "      <td>Tur/Arhar Dal</td>\n",
       "      <td>15.0</td>\n",
       "      <td>NORTH</td>\n",
       "      <td>INDIA</td>\n",
       "      <td>1997-11-25</td>\n",
       "      <td>1997-11</td>\n",
       "    </tr>\n",
       "    <tr>\n",
       "      <th>1</th>\n",
       "      <td>25-11-1997</td>\n",
       "      <td>BHOPAL</td>\n",
       "      <td>Tur/Arhar Dal</td>\n",
       "      <td>18.0</td>\n",
       "      <td>WEST</td>\n",
       "      <td>INDIA</td>\n",
       "      <td>1997-11-25</td>\n",
       "      <td>1997-11</td>\n",
       "    </tr>\n",
       "    <tr>\n",
       "      <th>2</th>\n",
       "      <td>25-11-1997</td>\n",
       "      <td>JAIPUR</td>\n",
       "      <td>Tur/Arhar Dal</td>\n",
       "      <td>20.0</td>\n",
       "      <td>WEST</td>\n",
       "      <td>INDIA</td>\n",
       "      <td>1997-11-25</td>\n",
       "      <td>1997-11</td>\n",
       "    </tr>\n",
       "    <tr>\n",
       "      <th>3</th>\n",
       "      <td>25-11-1997</td>\n",
       "      <td>SHIMLA</td>\n",
       "      <td>Tur/Arhar Dal</td>\n",
       "      <td>21.5</td>\n",
       "      <td>NORTH</td>\n",
       "      <td>INDIA</td>\n",
       "      <td>1997-11-25</td>\n",
       "      <td>1997-11</td>\n",
       "    </tr>\n",
       "    <tr>\n",
       "      <th>4</th>\n",
       "      <td>25-11-1997</td>\n",
       "      <td>AHMEDABAD</td>\n",
       "      <td>Tur/Arhar Dal</td>\n",
       "      <td>21.5</td>\n",
       "      <td>WEST</td>\n",
       "      <td>INDIA</td>\n",
       "      <td>1997-11-25</td>\n",
       "      <td>1997-11</td>\n",
       "    </tr>\n",
       "  </tbody>\n",
       "</table>\n",
       "</div>"
      ],
      "text/plain": [
       "         Date     Centre      Commodity  Price per Kg Region Country  \\\n",
       "0  25-11-1997    LUCKNOW  Tur/Arhar Dal          15.0  NORTH   INDIA   \n",
       "1  25-11-1997     BHOPAL  Tur/Arhar Dal          18.0   WEST   INDIA   \n",
       "2  25-11-1997     JAIPUR  Tur/Arhar Dal          20.0   WEST   INDIA   \n",
       "3  25-11-1997     SHIMLA  Tur/Arhar Dal          21.5  NORTH   INDIA   \n",
       "4  25-11-1997  AHMEDABAD  Tur/Arhar Dal          21.5   WEST   INDIA   \n",
       "\n",
       "   Timeindex Month-year  \n",
       "0 1997-11-25    1997-11  \n",
       "1 1997-11-25    1997-11  \n",
       "2 1997-11-25    1997-11  \n",
       "3 1997-11-25    1997-11  \n",
       "4 1997-11-25    1997-11  "
      ]
     },
     "execution_count": 3,
     "metadata": {},
     "output_type": "execute_result"
    }
   ],
   "source": [
    "date = [pd.datetime.strptime(d,'%d-%m-%Y') for d in como.Date]\n",
    "como['Timeindex'] = date\n",
    "como['Month-year'] = como.Timeindex.dt.to_period('M')\n",
    "como.head()"
   ]
  },
  {
   "cell_type": "code",
   "execution_count": 4,
   "metadata": {},
   "outputs": [],
   "source": [
    "north = como[(como.Region == 'NORTH')]"
   ]
  },
  {
   "cell_type": "code",
   "execution_count": 5,
   "metadata": {},
   "outputs": [
    {
     "data": {
      "text/plain": [
       "Onion                     115991\n",
       "Rice                      115370\n",
       "Tea Loose                 114495\n",
       "Tur/Arhar Dal             114224\n",
       "Sugar                     106953\n",
       "Salt Pack (Iodised)        93451\n",
       "Milk                       85848\n",
       "Tomato                     54578\n",
       "Sunflower Oil (Packed)     45762\n",
       "Name: Commodity, dtype: int64"
      ]
     },
     "execution_count": 5,
     "metadata": {},
     "output_type": "execute_result"
    }
   ],
   "source": [
    "como.Commodity.value_counts()"
   ]
  },
  {
   "cell_type": "code",
   "execution_count": 6,
   "metadata": {},
   "outputs": [],
   "source": [
    "impcomo = ['Onion','Rice', 'Tea Loose','Tur/Arhar Dal','Sugar' ]"
   ]
  },
  {
   "cell_type": "code",
   "execution_count": 12,
   "metadata": {},
   "outputs": [],
   "source": [
    "Onion = north[north.Commodity == impcomo[0]].groupby('Month-year').mean()\n",
    "rice = north[north.Commodity == impcomo[1]].groupby('Month-year').mean()\n",
    "tea = north[north.Commodity == impcomo[2]].groupby('Month-year').mean()\n",
    "dal = north[north.Commodity == impcomo[3]].groupby('Month-year').mean()\n",
    "sugar = north[north.Commodity == impcomo[4]].groupby('Month-year').mean()"
   ]
  },
  {
   "cell_type": "code",
   "execution_count": 17,
   "metadata": {},
   "outputs": [],
   "source": [
    "Onion.columns = ['Onion']\n",
    "rice.columns = ['Rice']\n",
    "tea.columns = ['Tea']\n",
    "dal.columns = ['Dal']\n",
    "sugar.columns=['sugar']"
   ]
  },
  {
   "cell_type": "code",
   "execution_count": 24,
   "metadata": {},
   "outputs": [],
   "source": [
    "impcomdf = pd.concat([Onion, rice,tea,dal,sugar], axis=1)"
   ]
  },
  {
   "cell_type": "code",
   "execution_count": 31,
   "metadata": {},
   "outputs": [
    {
     "data": {
      "image/png": "[encoded data removed]",
      "text/plain": [
       "<Figure size 1296x576 with 1 Axes>"
      ]
     },
     "metadata": {
      "needs_background": "light"
     },
     "output_type": "display_data"
    }
   ],
   "source": [
    "impcomdf.plot(figsize=(18,8))\n",
    "plt.savefig('trend')\n",
    "plt.show()"
   ]
  },
  {
   "cell_type": "code",
   "execution_count": 35,
   "metadata": {},
   "outputs": [
    {
     "data": {
      "text/html": [
       "<div>\n",
       "<style scoped>\n",
       "    .dataframe tbody tr th:only-of-type {\n",
       "        vertical-align: middle;\n",
       "    }\n",
       "\n",
       "    .dataframe tbody tr th {\n",
       "        vertical-align: top;\n",
       "    }\n",
       "\n",
       "    .dataframe thead th {\n",
       "        text-align: right;\n",
       "    }\n",
       "</style>\n",
       "<table border=\"1\" class=\"dataframe\">\n",
       "  <thead>\n",
       "    <tr style=\"text-align: right;\">\n",
       "      <th></th>\n",
       "      <th>Rice</th>\n",
       "    </tr>\n",
       "  </thead>\n",
       "  <tbody>\n",
       "    <tr>\n",
       "      <th>1997-11</th>\n",
       "      <td>9.500000</td>\n",
       "    </tr>\n",
       "    <tr>\n",
       "      <th>1997-12</th>\n",
       "      <td>9.742424</td>\n",
       "    </tr>\n",
       "    <tr>\n",
       "      <th>1998-01</th>\n",
       "      <td>9.847458</td>\n",
       "    </tr>\n",
       "    <tr>\n",
       "      <th>1998-02</th>\n",
       "      <td>9.412037</td>\n",
       "    </tr>\n",
       "    <tr>\n",
       "      <th>1998-03</th>\n",
       "      <td>9.527778</td>\n",
       "    </tr>\n",
       "  </tbody>\n",
       "</table>\n",
       "</div>"
      ],
      "text/plain": [
       "             Rice\n",
       "1997-11  9.500000\n",
       "1997-12  9.742424\n",
       "1998-01  9.847458\n",
       "1998-02  9.412037\n",
       "1998-03  9.527778"
      ]
     },
     "execution_count": 35,
     "metadata": {},
     "output_type": "execute_result"
    }
   ],
   "source": [
    "rice=rice.reindex(pd.period_range(rice.index[0],rice.index[-1], freq='M'))\n",
    "rice.head()"
   ]
  },
  {
   "cell_type": "code",
   "execution_count": 37,
   "metadata": {},
   "outputs": [],
   "source": [
    "tsplit = TimeSeriesSplit(max_train_size=0.7,n_splits=2)"
   ]
  },
  {
   "cell_type": "code",
   "execution_count": 42,
   "metadata": {},
   "outputs": [
    {
     "data": {
      "text/plain": [
       "<generator object TimeSeriesSplit.split at 0x0000025D6C250840>"
      ]
     },
     "execution_count": 42,
     "metadata": {},
     "output_type": "execute_result"
    }
   ],
   "source": [
    "tsplit.split(rice)"
   ]
  },
  {
   "cell_type": "code",
   "execution_count": null,
   "metadata": {},
   "outputs": [],
   "source": [
    "tsplit."
   ]
  }
 ],
 "metadata": {
  "kernelspec": {
   "display_name": "Python 3",
   "language": "python",
   "name": "python3"
  },
  "language_info": {
   "codemirror_mode": {
    "name": "ipython",
    "version": 3
   },
   "file_extension": ".py",
   "mimetype": "text/x-python",
   "name": "python",
   "nbconvert_exporter": "python",
   "pygments_lexer": "ipython3",
   "version": "3.7.0"
  }
 },
 "nbformat": 4,
 "nbformat_minor": 2
}
